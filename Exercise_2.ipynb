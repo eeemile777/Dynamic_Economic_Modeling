{
 "cells": [
  {
   "attachments": {},
   "cell_type": "markdown",
   "metadata": {},
   "source": [
    "Import all the necessary packages."
   ]
  },
  {
   "cell_type": "code",
   "execution_count": 5,
   "metadata": {},
   "outputs": [],
   "source": [
    "import matplotlib.pyplot as plt\n",
    "import statsmodels.api as sm\n",
    "import pandas as pd\n",
    "import numpy as np\n",
    "from fredapi import Fred\n",
    "\n",
    "pd.set_option('display.max_columns', 500)\n",
    "pd.set_option('display.max_rows', 40)\n",
    "pd.set_option(\"display.precision\", 3)"
   ]
  },
  {
   "attachments": {},
   "cell_type": "markdown",
   "metadata": {},
   "source": [
    "# **TABLE 1 -  Cyclical Behaviour of the US Economy**"
   ]
  },
  {
   "cell_type": "code",
   "execution_count": 6,
   "metadata": {},
   "outputs": [],
   "source": [
    "fred_key = '17193bb5d3d0af2508e249e344961fcf'\n",
    "fred = Fred(api_key=fred_key)"
   ]
  },
  {
   "attachments": {},
   "cell_type": "markdown",
   "metadata": {},
   "source": [
    "Browsing the FRED website, I found the following series. `fred_codes` is a dictionary that maps each variable (key) to its associated FRED code (value). Then, a new empty dataframe `df` is created. By passing the function `get_fred_data`, each series in the dictionary is imported from the FRED website and consequently added to `df` as a new variable."
   ]
  },
  {
   "cell_type": "code",
   "execution_count": 7,
   "metadata": {},
   "outputs": [],
   "source": [
    "def get_fred_data(code):\n",
    "    return fred.get_series(code, frequency = 'q')\n",
    "\n",
    "fred_codes = {'GNP' : 'GNP',\n",
    "              'CND' : 'PCND',\n",
    "              'CD' : 'PCDG',\n",
    "              'AVG_H' : 'AWHNONAG',\n",
    "              'AVG_W' : 'AHETPI'}\n",
    "\n",
    "df = pd.DataFrame()\n",
    "\n",
    "for var in fred_codes.keys():\n",
    "    df[var] = get_fred_data(fred_codes[var])"
   ]
  },
  {
   "cell_type": "code",
   "execution_count": 8,
   "metadata": {},
   "outputs": [
    {
     "data": {
      "text/html": [
       "<div>\n",
       "<style scoped>\n",
       "    .dataframe tbody tr th:only-of-type {\n",
       "        vertical-align: middle;\n",
       "    }\n",
       "\n",
       "    .dataframe tbody tr th {\n",
       "        vertical-align: top;\n",
       "    }\n",
       "\n",
       "    .dataframe thead th {\n",
       "        text-align: right;\n",
       "    }\n",
       "</style>\n",
       "<table border=\"1\" class=\"dataframe\">\n",
       "  <thead>\n",
       "    <tr style=\"text-align: right;\">\n",
       "      <th></th>\n",
       "      <th>GNP</th>\n",
       "      <th>CND</th>\n",
       "      <th>CD</th>\n",
       "      <th>AVG_H</th>\n",
       "      <th>AVG_W</th>\n",
       "    </tr>\n",
       "  </thead>\n",
       "  <tbody>\n",
       "    <tr>\n",
       "      <th>1939-01-01</th>\n",
       "      <td>NaN</td>\n",
       "      <td>NaN</td>\n",
       "      <td>NaN</td>\n",
       "      <td>NaN</td>\n",
       "      <td>NaN</td>\n",
       "    </tr>\n",
       "    <tr>\n",
       "      <th>1939-04-01</th>\n",
       "      <td>NaN</td>\n",
       "      <td>NaN</td>\n",
       "      <td>NaN</td>\n",
       "      <td>NaN</td>\n",
       "      <td>NaN</td>\n",
       "    </tr>\n",
       "    <tr>\n",
       "      <th>1939-07-01</th>\n",
       "      <td>NaN</td>\n",
       "      <td>NaN</td>\n",
       "      <td>NaN</td>\n",
       "      <td>NaN</td>\n",
       "      <td>NaN</td>\n",
       "    </tr>\n",
       "    <tr>\n",
       "      <th>1939-10-01</th>\n",
       "      <td>NaN</td>\n",
       "      <td>NaN</td>\n",
       "      <td>NaN</td>\n",
       "      <td>NaN</td>\n",
       "      <td>NaN</td>\n",
       "    </tr>\n",
       "    <tr>\n",
       "      <th>1940-01-01</th>\n",
       "      <td>NaN</td>\n",
       "      <td>NaN</td>\n",
       "      <td>NaN</td>\n",
       "      <td>NaN</td>\n",
       "      <td>NaN</td>\n",
       "    </tr>\n",
       "  </tbody>\n",
       "</table>\n",
       "</div>"
      ],
      "text/plain": [
       "            GNP  CND  CD  AVG_H  AVG_W\n",
       "1939-01-01  NaN  NaN NaN    NaN    NaN\n",
       "1939-04-01  NaN  NaN NaN    NaN    NaN\n",
       "1939-07-01  NaN  NaN NaN    NaN    NaN\n",
       "1939-10-01  NaN  NaN NaN    NaN    NaN\n",
       "1940-01-01  NaN  NaN NaN    NaN    NaN"
      ]
     },
     "execution_count": 8,
     "metadata": {},
     "output_type": "execute_result"
    }
   ],
   "source": [
    "# this is what the dataframe looks like\n",
    "df.head()"
   ]
  },
  {
   "attachments": {},
   "cell_type": "markdown",
   "metadata": {},
   "source": [
    "The `df` dataframe contains values for `GNP`, `CND` and `CD` starting from 1947-01-01, while the columns `avg_h` and `avg_w` start from 1964-01-01. For this reason, I decided to omit the rows with NA values. This yield a balanced `df` that starts from 1964-01-01."
   ]
  },
  {
   "cell_type": "code",
   "execution_count": 9,
   "metadata": {},
   "outputs": [
    {
     "data": {
      "text/html": [
       "<div>\n",
       "<style scoped>\n",
       "    .dataframe tbody tr th:only-of-type {\n",
       "        vertical-align: middle;\n",
       "    }\n",
       "\n",
       "    .dataframe tbody tr th {\n",
       "        vertical-align: top;\n",
       "    }\n",
       "\n",
       "    .dataframe thead th {\n",
       "        text-align: right;\n",
       "    }\n",
       "</style>\n",
       "<table border=\"1\" class=\"dataframe\">\n",
       "  <thead>\n",
       "    <tr style=\"text-align: right;\">\n",
       "      <th></th>\n",
       "      <th>GNP</th>\n",
       "      <th>CND</th>\n",
       "      <th>CD</th>\n",
       "      <th>AVG_H</th>\n",
       "      <th>AVG_W</th>\n",
       "    </tr>\n",
       "  </thead>\n",
       "  <tbody>\n",
       "    <tr>\n",
       "      <th>1964-01-01</th>\n",
       "      <td>674.880</td>\n",
       "      <td>148.651</td>\n",
       "      <td>57.995</td>\n",
       "      <td>38.4</td>\n",
       "      <td>2.50</td>\n",
       "    </tr>\n",
       "    <tr>\n",
       "      <th>1964-04-01</th>\n",
       "      <td>683.549</td>\n",
       "      <td>151.455</td>\n",
       "      <td>59.476</td>\n",
       "      <td>38.6</td>\n",
       "      <td>2.52</td>\n",
       "    </tr>\n",
       "    <tr>\n",
       "      <th>1964-07-01</th>\n",
       "      <td>697.079</td>\n",
       "      <td>154.877</td>\n",
       "      <td>61.378</td>\n",
       "      <td>38.5</td>\n",
       "      <td>2.55</td>\n",
       "    </tr>\n",
       "    <tr>\n",
       "      <th>1964-10-01</th>\n",
       "      <td>702.017</td>\n",
       "      <td>155.800</td>\n",
       "      <td>59.377</td>\n",
       "      <td>38.6</td>\n",
       "      <td>2.56</td>\n",
       "    </tr>\n",
       "    <tr>\n",
       "      <th>1965-01-01</th>\n",
       "      <td>723.225</td>\n",
       "      <td>157.760</td>\n",
       "      <td>64.915</td>\n",
       "      <td>38.7</td>\n",
       "      <td>2.59</td>\n",
       "    </tr>\n",
       "  </tbody>\n",
       "</table>\n",
       "</div>"
      ],
      "text/plain": [
       "                GNP      CND      CD  AVG_H  AVG_W\n",
       "1964-01-01  674.880  148.651  57.995   38.4   2.50\n",
       "1964-04-01  683.549  151.455  59.476   38.6   2.52\n",
       "1964-07-01  697.079  154.877  61.378   38.5   2.55\n",
       "1964-10-01  702.017  155.800  59.377   38.6   2.56\n",
       "1965-01-01  723.225  157.760  64.915   38.7   2.59"
      ]
     },
     "execution_count": 9,
     "metadata": {},
     "output_type": "execute_result"
    }
   ],
   "source": [
    "df = df.dropna() # drop rows with NA\n",
    "df.head()"
   ]
  },
  {
   "attachments": {},
   "cell_type": "markdown",
   "metadata": {},
   "source": [
    "With the above code chunk I obtained a dataframe containing _five_ out of the _eight_ variables I need to build the table.\n",
    "\n",
    "Since no suitable data for `Total Hours Worked` and `Employment` was found on the FRED website, a [new source](https://www.bls.gov/productivity/tables/total-economy-hours-employment.xlsx) was imported from the Bureau of Labor Statistics. \n",
    "Since this file already contained data on both `Total Hours Worked` and `Employment` in the same sheet, I had to work a bit on the Excel file in order to extract from the main sheet the useful data, i.e. hours worked and emplyment only (I don't explain the passages beacuse I think it's not relevant, but if needed I'm available to show them). "
   ]
  },
  {
   "cell_type": "code",
   "execution_count": 10,
   "metadata": {},
   "outputs": [],
   "source": [
    "empl_hworked = pd.read_excel('total-economy-hours-employment.xlsx', sheet_name=\"Employment_THWorked\")\n",
    "\n",
    "# rename the columns\n",
    "empl_hworked.rename(columns={'Total economy': 'tot_hours_worked'}, inplace=True)\n",
    "empl_hworked.rename(columns={'Total economy.1': 'employment'}, inplace=True)\n",
    "empl_hworked.rename(columns={'Sector': 'Year'}, inplace=True)\n",
    "\n",
    "empl_hworked = empl_hworked[8:] # the first rows inlcuded descriptions and NA values, so I removed them"
   ]
  },
  {
   "cell_type": "code",
   "execution_count": 11,
   "metadata": {},
   "outputs": [
    {
     "data": {
      "text/html": [
       "<div>\n",
       "<style scoped>\n",
       "    .dataframe tbody tr th:only-of-type {\n",
       "        vertical-align: middle;\n",
       "    }\n",
       "\n",
       "    .dataframe tbody tr th {\n",
       "        vertical-align: top;\n",
       "    }\n",
       "\n",
       "    .dataframe thead th {\n",
       "        text-align: right;\n",
       "    }\n",
       "</style>\n",
       "<table border=\"1\" class=\"dataframe\">\n",
       "  <thead>\n",
       "    <tr style=\"text-align: right;\">\n",
       "      <th></th>\n",
       "      <th>Year</th>\n",
       "      <th>tot_hours_worked</th>\n",
       "      <th>employment</th>\n",
       "    </tr>\n",
       "  </thead>\n",
       "  <tbody>\n",
       "    <tr>\n",
       "      <th>8</th>\n",
       "      <td>1948 Q1</td>\n",
       "      <td>124.151</td>\n",
       "      <td>63.292</td>\n",
       "    </tr>\n",
       "    <tr>\n",
       "      <th>9</th>\n",
       "      <td>1948 Q2</td>\n",
       "      <td>124.43</td>\n",
       "      <td>63.143</td>\n",
       "    </tr>\n",
       "    <tr>\n",
       "      <th>10</th>\n",
       "      <td>1948 Q3</td>\n",
       "      <td>125.811</td>\n",
       "      <td>64.119</td>\n",
       "    </tr>\n",
       "    <tr>\n",
       "      <th>11</th>\n",
       "      <td>1948 Q4</td>\n",
       "      <td>125.348</td>\n",
       "      <td>64.064</td>\n",
       "    </tr>\n",
       "  </tbody>\n",
       "</table>\n",
       "</div>"
      ],
      "text/plain": [
       "       Year tot_hours_worked employment\n",
       "8   1948 Q1          124.151     63.292\n",
       "9   1948 Q2           124.43     63.143\n",
       "10  1948 Q3          125.811     64.119\n",
       "11  1948 Q4          125.348     64.064"
      ]
     },
     "execution_count": 11,
     "metadata": {},
     "output_type": "execute_result"
    }
   ],
   "source": [
    "# change the data type from string to integer\n",
    "empl_hworked['tot_hours_worked'].astype(float)\n",
    "empl_hworked['employment'].astype(float)\n",
    "\n",
    "empl_hworked.head(4)"
   ]
  },
  {
   "attachments": {},
   "cell_type": "markdown",
   "metadata": {},
   "source": [
    "The `Year` columns is a bit \"troublesome\", in the sense that it has the notation \"YYYY QQ\". Nothing that cannot be fixed, of course, but in this case I think it's unnecessary to clean the column in this way. In fact, I already have the `df` dataframe which contains a column for the time. In light of this, my idea is to simply add the columns `tot_hours_worked` and `employment` to the `df` dataframe, considering data _from 1964-01-01 only_, as above.\n",
    "\n"
   ]
  },
  {
   "cell_type": "code",
   "execution_count": 12,
   "metadata": {},
   "outputs": [
    {
     "data": {
      "text/html": [
       "<div>\n",
       "<style scoped>\n",
       "    .dataframe tbody tr th:only-of-type {\n",
       "        vertical-align: middle;\n",
       "    }\n",
       "\n",
       "    .dataframe tbody tr th {\n",
       "        vertical-align: top;\n",
       "    }\n",
       "\n",
       "    .dataframe thead th {\n",
       "        text-align: right;\n",
       "    }\n",
       "</style>\n",
       "<table border=\"1\" class=\"dataframe\">\n",
       "  <thead>\n",
       "    <tr style=\"text-align: right;\">\n",
       "      <th></th>\n",
       "      <th>Year</th>\n",
       "      <th>tot_hours_worked</th>\n",
       "      <th>employment</th>\n",
       "    </tr>\n",
       "  </thead>\n",
       "  <tbody>\n",
       "    <tr>\n",
       "      <th>72</th>\n",
       "      <td>1964 Q1</td>\n",
       "      <td>142.442</td>\n",
       "      <td>74.741</td>\n",
       "    </tr>\n",
       "    <tr>\n",
       "      <th>73</th>\n",
       "      <td>1964 Q2</td>\n",
       "      <td>143.997</td>\n",
       "      <td>75.143</td>\n",
       "    </tr>\n",
       "    <tr>\n",
       "      <th>74</th>\n",
       "      <td>1964 Q3</td>\n",
       "      <td>144.699</td>\n",
       "      <td>75.661</td>\n",
       "    </tr>\n",
       "    <tr>\n",
       "      <th>75</th>\n",
       "      <td>1964 Q4</td>\n",
       "      <td>145.716</td>\n",
       "      <td>76.044</td>\n",
       "    </tr>\n",
       "  </tbody>\n",
       "</table>\n",
       "</div>"
      ],
      "text/plain": [
       "       Year tot_hours_worked employment\n",
       "72  1964 Q1          142.442     74.741\n",
       "73  1964 Q2          143.997     75.143\n",
       "74  1964 Q3          144.699     75.661\n",
       "75  1964 Q4          145.716     76.044"
      ]
     },
     "execution_count": 12,
     "metadata": {},
     "output_type": "execute_result"
    }
   ],
   "source": [
    "empl_hworked = empl_hworked.query(\"  Year >= '1964 Q1'   \")\n",
    "empl_hworked.head(4)"
   ]
  },
  {
   "cell_type": "code",
   "execution_count": 13,
   "metadata": {},
   "outputs": [
    {
     "name": "stdout",
     "output_type": "stream",
     "text": [
      "GNP                 float64\n",
      "CND                 float64\n",
      "CD                  float64\n",
      "AVG_H               float64\n",
      "AVG_W               float64\n",
      "Tot_Hours_Worked    float64\n",
      "Employment          float64\n",
      "dtype: object\n"
     ]
    },
    {
     "data": {
      "text/html": [
       "<div>\n",
       "<style scoped>\n",
       "    .dataframe tbody tr th:only-of-type {\n",
       "        vertical-align: middle;\n",
       "    }\n",
       "\n",
       "    .dataframe tbody tr th {\n",
       "        vertical-align: top;\n",
       "    }\n",
       "\n",
       "    .dataframe thead th {\n",
       "        text-align: right;\n",
       "    }\n",
       "</style>\n",
       "<table border=\"1\" class=\"dataframe\">\n",
       "  <thead>\n",
       "    <tr style=\"text-align: right;\">\n",
       "      <th></th>\n",
       "      <th>GNP</th>\n",
       "      <th>CND</th>\n",
       "      <th>CD</th>\n",
       "      <th>AVG_H</th>\n",
       "      <th>AVG_W</th>\n",
       "      <th>Tot_Hours_Worked</th>\n",
       "      <th>Employment</th>\n",
       "    </tr>\n",
       "  </thead>\n",
       "  <tbody>\n",
       "    <tr>\n",
       "      <th>2022-01-01</th>\n",
       "      <td>24929.184</td>\n",
       "      <td>3659.310</td>\n",
       "      <td>2183.860</td>\n",
       "      <td>34.1</td>\n",
       "      <td>26.99</td>\n",
       "      <td>288.590</td>\n",
       "      <td>166.065</td>\n",
       "    </tr>\n",
       "    <tr>\n",
       "      <th>2022-04-01</th>\n",
       "      <td>25456.409</td>\n",
       "      <td>3771.878</td>\n",
       "      <td>2181.760</td>\n",
       "      <td>34.1</td>\n",
       "      <td>27.40</td>\n",
       "      <td>289.057</td>\n",
       "      <td>167.375</td>\n",
       "    </tr>\n",
       "    <tr>\n",
       "      <th>2022-07-01</th>\n",
       "      <td>25885.432</td>\n",
       "      <td>3792.740</td>\n",
       "      <td>2195.833</td>\n",
       "      <td>34.0</td>\n",
       "      <td>27.75</td>\n",
       "      <td>291.335</td>\n",
       "      <td>168.554</td>\n",
       "    </tr>\n",
       "    <tr>\n",
       "      <th>2022-10-01</th>\n",
       "      <td>26289.489</td>\n",
       "      <td>3799.633</td>\n",
       "      <td>2180.382</td>\n",
       "      <td>33.9</td>\n",
       "      <td>28.09</td>\n",
       "      <td>291.575</td>\n",
       "      <td>169.472</td>\n",
       "    </tr>\n",
       "    <tr>\n",
       "      <th>2023-01-01</th>\n",
       "      <td>26592.668</td>\n",
       "      <td>3823.823</td>\n",
       "      <td>2259.535</td>\n",
       "      <td>34.0</td>\n",
       "      <td>28.40</td>\n",
       "      <td>293.909</td>\n",
       "      <td>170.677</td>\n",
       "    </tr>\n",
       "  </tbody>\n",
       "</table>\n",
       "</div>"
      ],
      "text/plain": [
       "                  GNP       CND        CD  AVG_H  AVG_W  Tot_Hours_Worked  \\\n",
       "2022-01-01  24929.184  3659.310  2183.860   34.1  26.99           288.590   \n",
       "2022-04-01  25456.409  3771.878  2181.760   34.1  27.40           289.057   \n",
       "2022-07-01  25885.432  3792.740  2195.833   34.0  27.75           291.335   \n",
       "2022-10-01  26289.489  3799.633  2180.382   33.9  28.09           291.575   \n",
       "2023-01-01  26592.668  3823.823  2259.535   34.0  28.40           293.909   \n",
       "\n",
       "            Employment  \n",
       "2022-01-01     166.065  \n",
       "2022-04-01     167.375  \n",
       "2022-07-01     168.554  \n",
       "2022-10-01     169.472  \n",
       "2023-01-01     170.677  "
      ]
     },
     "execution_count": 13,
     "metadata": {},
     "output_type": "execute_result"
    }
   ],
   "source": [
    "# add the two columns to the df dataframe\n",
    "df['Tot_Hours_Worked'] = empl_hworked['tot_hours_worked'].values\n",
    "df['Employment'] = empl_hworked['employment'].values\n",
    "\n",
    "# they are not added as numerical data types, so let's convert them\n",
    "df['Tot_Hours_Worked'] = pd.to_numeric(df['Tot_Hours_Worked'], errors = 'coerce')\n",
    "df['Employment'] = pd.to_numeric(df['Employment'], errors='coerce')\n",
    "\n",
    "# double check the new data types\n",
    "print(df.dtypes)\n",
    "\n",
    "# take a look at the new df!\n",
    "df.tail()"
   ]
  },
  {
   "attachments": {},
   "cell_type": "markdown",
   "metadata": {},
   "source": [
    "### **From nominal to real**\n",
    "\n",
    "The data imported from FRED don't have the word \"`real`\" in the description, so I deduced they are nominal. For this reason, it is necessary to convert them from nominal to real. The data need to be converted are: `GNP`, `CND`, `CD`, `AVG_W`. I didn't directly use real series because I didn't manage to find real series that covered several decades until the most recent ones, so my idea is to import the nominal ones and then apply the conversion through the CPI.\n",
    "\n",
    "A way to do it is through the CPI index.\n",
    "- From this [link](https://www.dallasfed.org/research/basics/nominal), that's the formula:\n",
    "\n",
    "![alt text](cpi_formula.png \"Title\")\n",
    "\n",
    "- The [CPI file](https://fred.stlouisfed.org/series/CPIAUCSL#0) comes from the FRED website: instead of acquiring it via the API, I modified the reference date because it was 1982 but I wanted a more recent year (2012). Thus I modified the settings from the website adding 2012 as the reference year and then downloaded it.\n",
    "\n",
    "- [This video](https://www.youtube.com/watch?v=1Nf2i3gXCKA&ab_channel=tutor2u) was also helpful, especially for including the $/100$ at the denominator."
   ]
  },
  {
   "cell_type": "code",
   "execution_count": 14,
   "metadata": {},
   "outputs": [],
   "source": [
    "cpi = pd.read_excel('CPI.xls', index_col = 0)\n",
    "cpi.rename(columns = {'CPIAUCSL_NBD20120101' : 'ind'}, inplace = True)"
   ]
  },
  {
   "cell_type": "code",
   "execution_count": 15,
   "metadata": {},
   "outputs": [],
   "source": [
    "nominal = ['GNP', 'CND', 'CD', 'AVG_W']\n",
    "df[nominal] = df[nominal].apply(lambda x: x/(cpi.ind/100))"
   ]
  },
  {
   "attachments": {},
   "cell_type": "markdown",
   "metadata": {},
   "source": [
    "### **Retrieve the last missing variable: productivity**\n",
    "\n",
    "In this exercise `productivity` is computed as: $\\frac{GNP}{L}$"
   ]
  },
  {
   "cell_type": "code",
   "execution_count": 16,
   "metadata": {},
   "outputs": [],
   "source": [
    "df['Productivity'] = (df.GNP*1e09) / (df.Employment*1e06)"
   ]
  },
  {
   "cell_type": "code",
   "execution_count": 17,
   "metadata": {},
   "outputs": [
    {
     "data": {
      "text/html": [
       "<div>\n",
       "<style scoped>\n",
       "    .dataframe tbody tr th:only-of-type {\n",
       "        vertical-align: middle;\n",
       "    }\n",
       "\n",
       "    .dataframe tbody tr th {\n",
       "        vertical-align: top;\n",
       "    }\n",
       "\n",
       "    .dataframe thead th {\n",
       "        text-align: right;\n",
       "    }\n",
       "</style>\n",
       "<table border=\"1\" class=\"dataframe\">\n",
       "  <thead>\n",
       "    <tr style=\"text-align: right;\">\n",
       "      <th></th>\n",
       "      <th>GNP</th>\n",
       "      <th>CND</th>\n",
       "      <th>CD</th>\n",
       "      <th>AVG_H</th>\n",
       "      <th>AVG_W</th>\n",
       "      <th>Tot_Hours_Worked</th>\n",
       "      <th>Employment</th>\n",
       "      <th>Productivity</th>\n",
       "    </tr>\n",
       "  </thead>\n",
       "  <tbody>\n",
       "    <tr>\n",
       "      <th>1964-01-01</th>\n",
       "      <td>4981.980</td>\n",
       "      <td>1097.345</td>\n",
       "      <td>428.120</td>\n",
       "      <td>38.4</td>\n",
       "      <td>18.455</td>\n",
       "      <td>142.442</td>\n",
       "      <td>74.741</td>\n",
       "      <td>66656.594</td>\n",
       "    </tr>\n",
       "    <tr>\n",
       "      <th>1964-04-01</th>\n",
       "      <td>5037.831</td>\n",
       "      <td>1116.240</td>\n",
       "      <td>438.345</td>\n",
       "      <td>38.6</td>\n",
       "      <td>18.573</td>\n",
       "      <td>143.997</td>\n",
       "      <td>75.143</td>\n",
       "      <td>67043.248</td>\n",
       "    </tr>\n",
       "    <tr>\n",
       "      <th>1964-07-01</th>\n",
       "      <td>5125.965</td>\n",
       "      <td>1138.887</td>\n",
       "      <td>451.343</td>\n",
       "      <td>38.5</td>\n",
       "      <td>18.751</td>\n",
       "      <td>144.699</td>\n",
       "      <td>75.661</td>\n",
       "      <td>67749.109</td>\n",
       "    </tr>\n",
       "    <tr>\n",
       "      <th>1964-10-01</th>\n",
       "      <td>5138.558</td>\n",
       "      <td>1140.410</td>\n",
       "      <td>434.622</td>\n",
       "      <td>38.6</td>\n",
       "      <td>18.738</td>\n",
       "      <td>145.716</td>\n",
       "      <td>76.044</td>\n",
       "      <td>67573.489</td>\n",
       "    </tr>\n",
       "    <tr>\n",
       "      <th>1965-01-01</th>\n",
       "      <td>5277.439</td>\n",
       "      <td>1151.189</td>\n",
       "      <td>473.691</td>\n",
       "      <td>38.7</td>\n",
       "      <td>18.899</td>\n",
       "      <td>147.472</td>\n",
       "      <td>76.437</td>\n",
       "      <td>69042.991</td>\n",
       "    </tr>\n",
       "  </tbody>\n",
       "</table>\n",
       "</div>"
      ],
      "text/plain": [
       "                 GNP       CND       CD  AVG_H   AVG_W  Tot_Hours_Worked  \\\n",
       "1964-01-01  4981.980  1097.345  428.120   38.4  18.455           142.442   \n",
       "1964-04-01  5037.831  1116.240  438.345   38.6  18.573           143.997   \n",
       "1964-07-01  5125.965  1138.887  451.343   38.5  18.751           144.699   \n",
       "1964-10-01  5138.558  1140.410  434.622   38.6  18.738           145.716   \n",
       "1965-01-01  5277.439  1151.189  473.691   38.7  18.899           147.472   \n",
       "\n",
       "            Employment  Productivity  \n",
       "1964-01-01      74.741     66656.594  \n",
       "1964-04-01      75.143     67043.248  \n",
       "1964-07-01      75.661     67749.109  \n",
       "1964-10-01      76.044     67573.489  \n",
       "1965-01-01      76.437     69042.991  "
      ]
     },
     "execution_count": 17,
     "metadata": {},
     "output_type": "execute_result"
    }
   ],
   "source": [
    "# see the complete dataset!\n",
    "df.head()"
   ]
  },
  {
   "attachments": {},
   "cell_type": "markdown",
   "metadata": {},
   "source": [
    "### **Log transform** "
   ]
  },
  {
   "cell_type": "code",
   "execution_count": 18,
   "metadata": {},
   "outputs": [
    {
     "data": {
      "text/html": [
       "<div>\n",
       "<style scoped>\n",
       "    .dataframe tbody tr th:only-of-type {\n",
       "        vertical-align: middle;\n",
       "    }\n",
       "\n",
       "    .dataframe tbody tr th {\n",
       "        vertical-align: top;\n",
       "    }\n",
       "\n",
       "    .dataframe thead th {\n",
       "        text-align: right;\n",
       "    }\n",
       "</style>\n",
       "<table border=\"1\" class=\"dataframe\">\n",
       "  <thead>\n",
       "    <tr style=\"text-align: right;\">\n",
       "      <th></th>\n",
       "      <th>GNP</th>\n",
       "      <th>CND</th>\n",
       "      <th>CD</th>\n",
       "      <th>AVG_H</th>\n",
       "      <th>AVG_W</th>\n",
       "      <th>Tot_Hours_Worked</th>\n",
       "      <th>Employment</th>\n",
       "      <th>Productivity</th>\n",
       "    </tr>\n",
       "  </thead>\n",
       "  <tbody>\n",
       "    <tr>\n",
       "      <th>1964-01-01</th>\n",
       "      <td>8.514</td>\n",
       "      <td>7.001</td>\n",
       "      <td>6.059</td>\n",
       "      <td>3.648</td>\n",
       "      <td>2.915</td>\n",
       "      <td>4.959</td>\n",
       "      <td>4.314</td>\n",
       "      <td>11.107</td>\n",
       "    </tr>\n",
       "    <tr>\n",
       "      <th>1964-04-01</th>\n",
       "      <td>8.525</td>\n",
       "      <td>7.018</td>\n",
       "      <td>6.083</td>\n",
       "      <td>3.653</td>\n",
       "      <td>2.922</td>\n",
       "      <td>4.970</td>\n",
       "      <td>4.319</td>\n",
       "      <td>11.113</td>\n",
       "    </tr>\n",
       "    <tr>\n",
       "      <th>1964-07-01</th>\n",
       "      <td>8.542</td>\n",
       "      <td>7.038</td>\n",
       "      <td>6.112</td>\n",
       "      <td>3.651</td>\n",
       "      <td>2.931</td>\n",
       "      <td>4.975</td>\n",
       "      <td>4.326</td>\n",
       "      <td>11.124</td>\n",
       "    </tr>\n",
       "    <tr>\n",
       "      <th>1964-10-01</th>\n",
       "      <td>8.545</td>\n",
       "      <td>7.039</td>\n",
       "      <td>6.074</td>\n",
       "      <td>3.653</td>\n",
       "      <td>2.931</td>\n",
       "      <td>4.982</td>\n",
       "      <td>4.331</td>\n",
       "      <td>11.121</td>\n",
       "    </tr>\n",
       "    <tr>\n",
       "      <th>1965-01-01</th>\n",
       "      <td>8.571</td>\n",
       "      <td>7.049</td>\n",
       "      <td>6.161</td>\n",
       "      <td>3.656</td>\n",
       "      <td>2.939</td>\n",
       "      <td>4.994</td>\n",
       "      <td>4.336</td>\n",
       "      <td>11.142</td>\n",
       "    </tr>\n",
       "    <tr>\n",
       "      <th>...</th>\n",
       "      <td>...</td>\n",
       "      <td>...</td>\n",
       "      <td>...</td>\n",
       "      <td>...</td>\n",
       "      <td>...</td>\n",
       "      <td>...</td>\n",
       "      <td>...</td>\n",
       "      <td>...</td>\n",
       "    </tr>\n",
       "    <tr>\n",
       "      <th>2022-01-01</th>\n",
       "      <td>9.902</td>\n",
       "      <td>7.984</td>\n",
       "      <td>7.468</td>\n",
       "      <td>3.529</td>\n",
       "      <td>3.074</td>\n",
       "      <td>5.665</td>\n",
       "      <td>5.112</td>\n",
       "      <td>11.698</td>\n",
       "    </tr>\n",
       "    <tr>\n",
       "      <th>2022-04-01</th>\n",
       "      <td>9.900</td>\n",
       "      <td>7.991</td>\n",
       "      <td>7.443</td>\n",
       "      <td>3.529</td>\n",
       "      <td>3.066</td>\n",
       "      <td>5.667</td>\n",
       "      <td>5.120</td>\n",
       "      <td>11.688</td>\n",
       "    </tr>\n",
       "    <tr>\n",
       "      <th>2022-07-01</th>\n",
       "      <td>9.904</td>\n",
       "      <td>7.983</td>\n",
       "      <td>7.436</td>\n",
       "      <td>3.526</td>\n",
       "      <td>3.065</td>\n",
       "      <td>5.674</td>\n",
       "      <td>5.127</td>\n",
       "      <td>11.684</td>\n",
       "    </tr>\n",
       "    <tr>\n",
       "      <th>2022-10-01</th>\n",
       "      <td>9.909</td>\n",
       "      <td>7.975</td>\n",
       "      <td>7.419</td>\n",
       "      <td>3.523</td>\n",
       "      <td>3.067</td>\n",
       "      <td>5.675</td>\n",
       "      <td>5.133</td>\n",
       "      <td>11.684</td>\n",
       "    </tr>\n",
       "    <tr>\n",
       "      <th>2023-01-01</th>\n",
       "      <td>9.911</td>\n",
       "      <td>7.972</td>\n",
       "      <td>7.445</td>\n",
       "      <td>3.526</td>\n",
       "      <td>3.069</td>\n",
       "      <td>5.683</td>\n",
       "      <td>5.140</td>\n",
       "      <td>11.679</td>\n",
       "    </tr>\n",
       "  </tbody>\n",
       "</table>\n",
       "<p>237 rows × 8 columns</p>\n",
       "</div>"
      ],
      "text/plain": [
       "              GNP    CND     CD  AVG_H  AVG_W  Tot_Hours_Worked  Employment  \\\n",
       "1964-01-01  8.514  7.001  6.059  3.648  2.915             4.959       4.314   \n",
       "1964-04-01  8.525  7.018  6.083  3.653  2.922             4.970       4.319   \n",
       "1964-07-01  8.542  7.038  6.112  3.651  2.931             4.975       4.326   \n",
       "1964-10-01  8.545  7.039  6.074  3.653  2.931             4.982       4.331   \n",
       "1965-01-01  8.571  7.049  6.161  3.656  2.939             4.994       4.336   \n",
       "...           ...    ...    ...    ...    ...               ...         ...   \n",
       "2022-01-01  9.902  7.984  7.468  3.529  3.074             5.665       5.112   \n",
       "2022-04-01  9.900  7.991  7.443  3.529  3.066             5.667       5.120   \n",
       "2022-07-01  9.904  7.983  7.436  3.526  3.065             5.674       5.127   \n",
       "2022-10-01  9.909  7.975  7.419  3.523  3.067             5.675       5.133   \n",
       "2023-01-01  9.911  7.972  7.445  3.526  3.069             5.683       5.140   \n",
       "\n",
       "            Productivity  \n",
       "1964-01-01        11.107  \n",
       "1964-04-01        11.113  \n",
       "1964-07-01        11.124  \n",
       "1964-10-01        11.121  \n",
       "1965-01-01        11.142  \n",
       "...                  ...  \n",
       "2022-01-01        11.698  \n",
       "2022-04-01        11.688  \n",
       "2022-07-01        11.684  \n",
       "2022-10-01        11.684  \n",
       "2023-01-01        11.679  \n",
       "\n",
       "[237 rows x 8 columns]"
      ]
     },
     "execution_count": 18,
     "metadata": {},
     "output_type": "execute_result"
    }
   ],
   "source": [
    "df = df.apply(lambda x: np.log(x))\n",
    "df"
   ]
  },
  {
   "attachments": {},
   "cell_type": "markdown",
   "metadata": {},
   "source": [
    "### **Extract Fluctuations**\n",
    "\n",
    "The next step is to extract from the variables `trend` and `cycle` components. A way to do it is by means of `HP Filters`.\n",
    "\n",
    "The following function takes the original dataframe as argument and outputs two dataframes: one containing trends, the other containing cyclical components."
   ]
  },
  {
   "cell_type": "code",
   "execution_count": 19,
   "metadata": {},
   "outputs": [],
   "source": [
    "def trend_extractor(original_df):\n",
    "    \n",
    "    # create two empty dataframes, one for trends and the other one for cycles\n",
    "    df_cycle = pd.DataFrame()\n",
    "    df_trend = pd.DataFrame()\n",
    "    \n",
    "    \n",
    "    for var in list(original_df.columns.values):\n",
    "        cycle, trend = sm.tsa.filters.hpfilter(original_df[var])\n",
    "        df_cycle[var] = cycle \n",
    "        df_trend[var] = trend \n",
    "    \n",
    "    return df_cycle, df_trend"
   ]
  },
  {
   "cell_type": "code",
   "execution_count": 20,
   "metadata": {},
   "outputs": [
    {
     "data": {
      "text/html": [
       "<div>\n",
       "<style scoped>\n",
       "    .dataframe tbody tr th:only-of-type {\n",
       "        vertical-align: middle;\n",
       "    }\n",
       "\n",
       "    .dataframe tbody tr th {\n",
       "        vertical-align: top;\n",
       "    }\n",
       "\n",
       "    .dataframe thead th {\n",
       "        text-align: right;\n",
       "    }\n",
       "</style>\n",
       "<table border=\"1\" class=\"dataframe\">\n",
       "  <thead>\n",
       "    <tr style=\"text-align: right;\">\n",
       "      <th></th>\n",
       "      <th>GNP</th>\n",
       "      <th>CND</th>\n",
       "      <th>CD</th>\n",
       "      <th>AVG_H</th>\n",
       "      <th>AVG_W</th>\n",
       "      <th>Tot_Hours_Worked</th>\n",
       "      <th>Employment</th>\n",
       "      <th>Productivity</th>\n",
       "    </tr>\n",
       "  </thead>\n",
       "  <tbody>\n",
       "    <tr>\n",
       "      <th>1964-01-01</th>\n",
       "      <td>-0.015</td>\n",
       "      <td>-0.023</td>\n",
       "      <td>-0.031</td>\n",
       "      <td>-0.010</td>\n",
       "      <td>-0.007</td>\n",
       "      <td>-0.014</td>\n",
       "      <td>-0.003</td>\n",
       "      <td>-0.012</td>\n",
       "    </tr>\n",
       "    <tr>\n",
       "      <th>1964-04-01</th>\n",
       "      <td>-0.016</td>\n",
       "      <td>-0.016</td>\n",
       "      <td>-0.020</td>\n",
       "      <td>-0.004</td>\n",
       "      <td>-0.004</td>\n",
       "      <td>-0.009</td>\n",
       "      <td>-0.005</td>\n",
       "      <td>-0.011</td>\n",
       "    </tr>\n",
       "    <tr>\n",
       "      <th>1964-07-01</th>\n",
       "      <td>-0.011</td>\n",
       "      <td>-0.005</td>\n",
       "      <td>-0.003</td>\n",
       "      <td>-0.005</td>\n",
       "      <td>0.002</td>\n",
       "      <td>-0.011</td>\n",
       "      <td>-0.005</td>\n",
       "      <td>-0.006</td>\n",
       "    </tr>\n",
       "  </tbody>\n",
       "</table>\n",
       "</div>"
      ],
      "text/plain": [
       "              GNP    CND     CD  AVG_H  AVG_W  Tot_Hours_Worked  Employment  \\\n",
       "1964-01-01 -0.015 -0.023 -0.031 -0.010 -0.007            -0.014      -0.003   \n",
       "1964-04-01 -0.016 -0.016 -0.020 -0.004 -0.004            -0.009      -0.005   \n",
       "1964-07-01 -0.011 -0.005 -0.003 -0.005  0.002            -0.011      -0.005   \n",
       "\n",
       "            Productivity  \n",
       "1964-01-01        -0.012  \n",
       "1964-04-01        -0.011  \n",
       "1964-07-01        -0.006  "
      ]
     },
     "execution_count": 20,
     "metadata": {},
     "output_type": "execute_result"
    }
   ],
   "source": [
    "# apply the function to the df\n",
    "df_cycle, df_trend = trend_extractor(df)\n",
    "\n",
    "# take a look at the cyclical df\n",
    "df_cycle.head(3)"
   ]
  },
  {
   "attachments": {},
   "cell_type": "markdown",
   "metadata": {},
   "source": [
    "Let's have a glance at how these components look like."
   ]
  },
  {
   "cell_type": "code",
   "execution_count": 21,
   "metadata": {},
   "outputs": [
    {
     "data": {
      "text/plain": [
       "<matplotlib.legend.Legend at 0x1e847796510>"
      ]
     },
     "execution_count": 21,
     "metadata": {},
     "output_type": "execute_result"
    },
    {
     "data": {
      "image/png": "[encoded data removed]",
      "text/plain": [
       "<Figure size 640x480 with 1 Axes>"
      ]
     },
     "metadata": {},
     "output_type": "display_data"
    }
   ],
   "source": [
    "fig, ax = plt.subplots()\n",
    "\n",
    "plt.plot(df_cycle.index, df_cycle.GNP, 'g-', label = 'GNP')\n",
    "plt.plot(df_cycle.index, df_cycle.CND, 'r-', label='CND')\n",
    "plt.plot(df_cycle.index, df_cycle.CD, 'b-', label='CD')\n",
    "\n",
    "plt.grid()\n",
    "plt.title('Volatility graph - GNP & Consumption')\n",
    "plt.legend()"
   ]
  },
  {
   "cell_type": "code",
   "execution_count": 22,
   "metadata": {},
   "outputs": [
    {
     "data": {
      "text/plain": [
       "<matplotlib.legend.Legend at 0x1e847a78610>"
      ]
     },
     "execution_count": 22,
     "metadata": {},
     "output_type": "execute_result"
    },
    {
     "data": {
      "image/png": "[encoded data removed]",
      "text/plain": [
       "<Figure size 640x480 with 1 Axes>"
      ]
     },
     "metadata": {},
     "output_type": "display_data"
    }
   ],
   "source": [
    "fig, ax = plt.subplots()\n",
    "\n",
    "plt.plot(df_cycle.index, df_cycle.GNP, 'g-', label = 'GNP')\n",
    "plt.plot(df_cycle.index, df_cycle.Employment, 'r-', label='Employment')\n",
    "\n",
    "plt.grid()\n",
    "plt.title('Volatility graph - GNP & Employment')\n",
    "plt.legend()"
   ]
  },
  {
   "cell_type": "code",
   "execution_count": 23,
   "metadata": {},
   "outputs": [
    {
     "data": {
      "text/plain": [
       "<matplotlib.legend.Legend at 0x1e849c28610>"
      ]
     },
     "execution_count": 23,
     "metadata": {},
     "output_type": "execute_result"
    },
    {
     "data": {
      "image/png": "[encoded data removed]",
      "text/plain": [
       "<Figure size 640x480 with 1 Axes>"
      ]
     },
     "metadata": {},
     "output_type": "display_data"
    }
   ],
   "source": [
    "fig, ax = plt.subplots()\n",
    "\n",
    "plt.plot(df_cycle.index, df_cycle.GNP, 'b-', label = 'GNP')\n",
    "plt.plot(df_cycle.index, df_cycle.Productivity, 'r-', label='Productivity')\n",
    "\n",
    "plt.grid()\n",
    "plt.title('Volatility graph - GNP & Productivity')\n",
    "plt.legend()"
   ]
  },
  {
   "cell_type": "code",
   "execution_count": 24,
   "metadata": {},
   "outputs": [
    {
     "data": {
      "text/plain": [
       "<matplotlib.legend.Legend at 0x1e849cf0610>"
      ]
     },
     "execution_count": 24,
     "metadata": {},
     "output_type": "execute_result"
    },
    {
     "data": {
      "image/png": "[encoded data removed]",
      "text/plain": [
       "<Figure size 640x480 with 1 Axes>"
      ]
     },
     "metadata": {},
     "output_type": "display_data"
    }
   ],
   "source": [
    "fig, ax = plt.subplots()\n",
    "\n",
    "plt.plot(df_cycle.index, df_cycle.GNP, 'g-', label = 'GNP')\n",
    "plt.plot(df_cycle.index, df_cycle.AVG_W, 'r-', label='AVG_W')\n",
    "\n",
    "plt.grid()\n",
    "plt.title('Volatility graph - GNP & AVG_W')\n",
    "plt.legend()"
   ]
  },
  {
   "cell_type": "code",
   "execution_count": 25,
   "metadata": {},
   "outputs": [
    {
     "data": {
      "text/plain": [
       "<matplotlib.legend.Legend at 0x1e847b74ad0>"
      ]
     },
     "execution_count": 25,
     "metadata": {},
     "output_type": "execute_result"
    },
    {
     "data": {
      "image/png": "[encoded data removed]",
      "text/plain": [
       "<Figure size 640x480 with 1 Axes>"
      ]
     },
     "metadata": {},
     "output_type": "display_data"
    }
   ],
   "source": [
    "fig, ax = plt.subplots()\n",
    "\n",
    "plt.plot(df_cycle.index, df_cycle.AVG_H, 'g-', label = 'AVG_H')\n",
    "plt.plot(df_cycle.index, df_cycle.Employment, 'r-', label='Employment')\n",
    "\n",
    "plt.grid()\n",
    "plt.title('Volatility graph - AVG_H & Employment')\n",
    "plt.legend()"
   ]
  },
  {
   "attachments": {},
   "cell_type": "markdown",
   "metadata": {},
   "source": [
    "### **Correlations: Table 1**"
   ]
  },
  {
   "cell_type": "code",
   "execution_count": 26,
   "metadata": {},
   "outputs": [],
   "source": [
    "def cross_correlation(my_df, response): \n",
    "    \n",
    "    cross_correlations = {}\n",
    "    \n",
    "    for var in list(my_df.columns.values):\n",
    "       \n",
    "        backward = sm.tsa.stattools.ccf(my_df[var][::-1], my_df[response][::-1], adjusted=False)[::-1]\n",
    "\n",
    "        \"\"\"The subsetting of backward ensures to extract only the cross-correlation from t-4\n",
    "        to t-1. From forward we get the values from t to t+4\"\"\"\n",
    "        \n",
    "        forward = sm.tsa.stattools.ccf(my_df[var], my_df[response],  adjusted = False)\n",
    "        \n",
    "        ccf_output = np.r_[backward[-5:-1], forward[:5]] \n",
    "        cross_correlations[var] = ccf_output\n",
    "        \n",
    "    return cross_correlations"
   ]
  },
  {
   "cell_type": "code",
   "execution_count": 27,
   "metadata": {},
   "outputs": [
    {
     "data": {
      "text/plain": [
       "{'GNP': array([0.22400472, 0.4200247 , 0.6318014 , 0.80599098, 1.        ,\n",
       "        0.80599098, 0.6318014 , 0.4200247 , 0.22400472]),\n",
       " 'CND': array([-0.04548802,  0.13478365,  0.34077323,  0.47753948,  0.64680531,\n",
       "         0.5827715 ,  0.54354672,  0.40496995,  0.27965338]),\n",
       " 'CD': array([ 0.42895854,  0.57204353,  0.68968544,  0.77547055,  0.77552937,\n",
       "         0.54253892,  0.36998184,  0.16038668, -0.0144228 ]),\n",
       " 'AVG_H': array([ 0.20022072,  0.34183193,  0.46938984,  0.58110916,  0.57574373,\n",
       "         0.44906273,  0.28361629,  0.13550708, -0.03242656]),\n",
       " 'AVG_W': array([ 0.38177119,  0.4574497 ,  0.49113139,  0.48951102,  0.37559628,\n",
       "         0.29034914,  0.17564214,  0.06026834, -0.05745619]),\n",
       " 'Tot_Hours_Worked': array([-0.09370958,  0.06930426,  0.27609826,  0.48485033,  0.77261765,\n",
       "         0.73975514,  0.6788922 ,  0.59105507,  0.472148  ]),\n",
       " 'Employment': array([-0.17305634, -0.02806827,  0.17059735,  0.37813484,  0.68798288,\n",
       "         0.70054505,  0.68412168,  0.63288222,  0.54232153]),\n",
       " 'Productivity': array([ 0.49749822,  0.59909701,  0.66154858,  0.66322735,  0.57649168,\n",
       "         0.30022255,  0.08336653, -0.14507361, -0.3079527 ])}"
      ]
     },
     "execution_count": 27,
     "metadata": {},
     "output_type": "execute_result"
    }
   ],
   "source": [
    "# apply the function to the GNP series\n",
    "cross_correlations = cross_correlation(df_cycle, 'GNP')\n",
    "cross_correlations"
   ]
  },
  {
   "cell_type": "code",
   "execution_count": 28,
   "metadata": {},
   "outputs": [
    {
     "data": {
      "text/html": [
       "<div>\n",
       "<style scoped>\n",
       "    .dataframe tbody tr th:only-of-type {\n",
       "        vertical-align: middle;\n",
       "    }\n",
       "\n",
       "    .dataframe tbody tr th {\n",
       "        vertical-align: top;\n",
       "    }\n",
       "\n",
       "    .dataframe thead th {\n",
       "        text-align: right;\n",
       "    }\n",
       "</style>\n",
       "<table border=\"1\" class=\"dataframe\">\n",
       "  <thead>\n",
       "    <tr style=\"text-align: right;\">\n",
       "      <th></th>\n",
       "      <th>t-4</th>\n",
       "      <th>t-3</th>\n",
       "      <th>t-2</th>\n",
       "      <th>t-1</th>\n",
       "      <th>t</th>\n",
       "      <th>t+1</th>\n",
       "      <th>t+2</th>\n",
       "      <th>t+3</th>\n",
       "      <th>t+4</th>\n",
       "    </tr>\n",
       "  </thead>\n",
       "  <tbody>\n",
       "    <tr>\n",
       "      <th>GNP</th>\n",
       "      <td>0.224</td>\n",
       "      <td>0.420</td>\n",
       "      <td>0.632</td>\n",
       "      <td>0.806</td>\n",
       "      <td>1.000</td>\n",
       "      <td>0.806</td>\n",
       "      <td>0.632</td>\n",
       "      <td>0.420</td>\n",
       "      <td>0.224</td>\n",
       "    </tr>\n",
       "    <tr>\n",
       "      <th>CND</th>\n",
       "      <td>-0.045</td>\n",
       "      <td>0.135</td>\n",
       "      <td>0.341</td>\n",
       "      <td>0.478</td>\n",
       "      <td>0.647</td>\n",
       "      <td>0.583</td>\n",
       "      <td>0.544</td>\n",
       "      <td>0.405</td>\n",
       "      <td>0.280</td>\n",
       "    </tr>\n",
       "    <tr>\n",
       "      <th>CD</th>\n",
       "      <td>0.429</td>\n",
       "      <td>0.572</td>\n",
       "      <td>0.690</td>\n",
       "      <td>0.775</td>\n",
       "      <td>0.776</td>\n",
       "      <td>0.543</td>\n",
       "      <td>0.370</td>\n",
       "      <td>0.160</td>\n",
       "      <td>-0.014</td>\n",
       "    </tr>\n",
       "    <tr>\n",
       "      <th>AVG_H</th>\n",
       "      <td>0.200</td>\n",
       "      <td>0.342</td>\n",
       "      <td>0.469</td>\n",
       "      <td>0.581</td>\n",
       "      <td>0.576</td>\n",
       "      <td>0.449</td>\n",
       "      <td>0.284</td>\n",
       "      <td>0.136</td>\n",
       "      <td>-0.032</td>\n",
       "    </tr>\n",
       "    <tr>\n",
       "      <th>AVG_W</th>\n",
       "      <td>0.382</td>\n",
       "      <td>0.457</td>\n",
       "      <td>0.491</td>\n",
       "      <td>0.490</td>\n",
       "      <td>0.376</td>\n",
       "      <td>0.290</td>\n",
       "      <td>0.176</td>\n",
       "      <td>0.060</td>\n",
       "      <td>-0.057</td>\n",
       "    </tr>\n",
       "    <tr>\n",
       "      <th>Tot_Hours_Worked</th>\n",
       "      <td>-0.094</td>\n",
       "      <td>0.069</td>\n",
       "      <td>0.276</td>\n",
       "      <td>0.485</td>\n",
       "      <td>0.773</td>\n",
       "      <td>0.740</td>\n",
       "      <td>0.679</td>\n",
       "      <td>0.591</td>\n",
       "      <td>0.472</td>\n",
       "    </tr>\n",
       "    <tr>\n",
       "      <th>Employment</th>\n",
       "      <td>-0.173</td>\n",
       "      <td>-0.028</td>\n",
       "      <td>0.171</td>\n",
       "      <td>0.378</td>\n",
       "      <td>0.688</td>\n",
       "      <td>0.701</td>\n",
       "      <td>0.684</td>\n",
       "      <td>0.633</td>\n",
       "      <td>0.542</td>\n",
       "    </tr>\n",
       "    <tr>\n",
       "      <th>Productivity</th>\n",
       "      <td>0.497</td>\n",
       "      <td>0.599</td>\n",
       "      <td>0.662</td>\n",
       "      <td>0.663</td>\n",
       "      <td>0.576</td>\n",
       "      <td>0.300</td>\n",
       "      <td>0.083</td>\n",
       "      <td>-0.145</td>\n",
       "      <td>-0.308</td>\n",
       "    </tr>\n",
       "  </tbody>\n",
       "</table>\n",
       "</div>"
      ],
      "text/plain": [
       "                    t-4    t-3    t-2    t-1      t    t+1    t+2    t+3  \\\n",
       "GNP               0.224  0.420  0.632  0.806  1.000  0.806  0.632  0.420   \n",
       "CND              -0.045  0.135  0.341  0.478  0.647  0.583  0.544  0.405   \n",
       "CD                0.429  0.572  0.690  0.775  0.776  0.543  0.370  0.160   \n",
       "AVG_H             0.200  0.342  0.469  0.581  0.576  0.449  0.284  0.136   \n",
       "AVG_W             0.382  0.457  0.491  0.490  0.376  0.290  0.176  0.060   \n",
       "Tot_Hours_Worked -0.094  0.069  0.276  0.485  0.773  0.740  0.679  0.591   \n",
       "Employment       -0.173 -0.028  0.171  0.378  0.688  0.701  0.684  0.633   \n",
       "Productivity      0.497  0.599  0.662  0.663  0.576  0.300  0.083 -0.145   \n",
       "\n",
       "                    t+4  \n",
       "GNP               0.224  \n",
       "CND               0.280  \n",
       "CD               -0.014  \n",
       "AVG_H            -0.032  \n",
       "AVG_W            -0.057  \n",
       "Tot_Hours_Worked  0.472  \n",
       "Employment        0.542  \n",
       "Productivity     -0.308  "
      ]
     },
     "execution_count": 28,
     "metadata": {},
     "output_type": "execute_result"
    }
   ],
   "source": [
    "corr_df = cross_correlation(df_cycle, 'GNP')\n",
    "\n",
    "corr_df = pd.DataFrame(data = corr_df,\n",
    "                               index = ['t-4', 't-3', 't-2', 't-1', 't', 't+1', 't+2', 't+3', 't+4']).T # T = transpose\n",
    "corr_df"
   ]
  },
  {
   "cell_type": "code",
   "execution_count": 29,
   "metadata": {},
   "outputs": [
    {
     "data": {
      "text/html": [
       "<div>\n",
       "<style scoped>\n",
       "    .dataframe tbody tr th:only-of-type {\n",
       "        vertical-align: middle;\n",
       "    }\n",
       "\n",
       "    .dataframe tbody tr th {\n",
       "        vertical-align: top;\n",
       "    }\n",
       "\n",
       "    .dataframe thead th {\n",
       "        text-align: right;\n",
       "    }\n",
       "</style>\n",
       "<table border=\"1\" class=\"dataframe\">\n",
       "  <thead>\n",
       "    <tr style=\"text-align: right;\">\n",
       "      <th></th>\n",
       "      <th>st dev %</th>\n",
       "      <th>t-4</th>\n",
       "      <th>t-3</th>\n",
       "      <th>t-2</th>\n",
       "      <th>t-1</th>\n",
       "      <th>t</th>\n",
       "      <th>t+1</th>\n",
       "      <th>t+2</th>\n",
       "      <th>t+3</th>\n",
       "      <th>t+4</th>\n",
       "    </tr>\n",
       "  </thead>\n",
       "  <tbody>\n",
       "    <tr>\n",
       "      <th>GNP</th>\n",
       "      <td>1.751</td>\n",
       "      <td>0.224</td>\n",
       "      <td>0.420</td>\n",
       "      <td>0.632</td>\n",
       "      <td>0.806</td>\n",
       "      <td>1.000</td>\n",
       "      <td>0.806</td>\n",
       "      <td>0.632</td>\n",
       "      <td>0.420</td>\n",
       "      <td>0.224</td>\n",
       "    </tr>\n",
       "    <tr>\n",
       "      <th>CND</th>\n",
       "      <td>1.517</td>\n",
       "      <td>-0.045</td>\n",
       "      <td>0.135</td>\n",
       "      <td>0.341</td>\n",
       "      <td>0.478</td>\n",
       "      <td>0.647</td>\n",
       "      <td>0.583</td>\n",
       "      <td>0.544</td>\n",
       "      <td>0.405</td>\n",
       "      <td>0.280</td>\n",
       "    </tr>\n",
       "    <tr>\n",
       "      <th>CD</th>\n",
       "      <td>4.647</td>\n",
       "      <td>0.429</td>\n",
       "      <td>0.572</td>\n",
       "      <td>0.690</td>\n",
       "      <td>0.775</td>\n",
       "      <td>0.776</td>\n",
       "      <td>0.543</td>\n",
       "      <td>0.370</td>\n",
       "      <td>0.160</td>\n",
       "      <td>-0.014</td>\n",
       "    </tr>\n",
       "    <tr>\n",
       "      <th>AVG_H</th>\n",
       "      <td>0.451</td>\n",
       "      <td>0.200</td>\n",
       "      <td>0.342</td>\n",
       "      <td>0.469</td>\n",
       "      <td>0.581</td>\n",
       "      <td>0.576</td>\n",
       "      <td>0.449</td>\n",
       "      <td>0.284</td>\n",
       "      <td>0.136</td>\n",
       "      <td>-0.032</td>\n",
       "    </tr>\n",
       "    <tr>\n",
       "      <th>AVG_W</th>\n",
       "      <td>1.099</td>\n",
       "      <td>0.382</td>\n",
       "      <td>0.457</td>\n",
       "      <td>0.491</td>\n",
       "      <td>0.490</td>\n",
       "      <td>0.376</td>\n",
       "      <td>0.290</td>\n",
       "      <td>0.176</td>\n",
       "      <td>0.060</td>\n",
       "      <td>-0.057</td>\n",
       "    </tr>\n",
       "    <tr>\n",
       "      <th>Tot_Hours_Worked</th>\n",
       "      <td>1.715</td>\n",
       "      <td>-0.094</td>\n",
       "      <td>0.069</td>\n",
       "      <td>0.276</td>\n",
       "      <td>0.485</td>\n",
       "      <td>0.773</td>\n",
       "      <td>0.740</td>\n",
       "      <td>0.679</td>\n",
       "      <td>0.591</td>\n",
       "      <td>0.472</td>\n",
       "    </tr>\n",
       "    <tr>\n",
       "      <th>Employment</th>\n",
       "      <td>1.459</td>\n",
       "      <td>-0.173</td>\n",
       "      <td>-0.028</td>\n",
       "      <td>0.171</td>\n",
       "      <td>0.378</td>\n",
       "      <td>0.688</td>\n",
       "      <td>0.701</td>\n",
       "      <td>0.684</td>\n",
       "      <td>0.633</td>\n",
       "      <td>0.542</td>\n",
       "    </tr>\n",
       "    <tr>\n",
       "      <th>Productivity</th>\n",
       "      <td>1.296</td>\n",
       "      <td>0.497</td>\n",
       "      <td>0.599</td>\n",
       "      <td>0.662</td>\n",
       "      <td>0.663</td>\n",
       "      <td>0.576</td>\n",
       "      <td>0.300</td>\n",
       "      <td>0.083</td>\n",
       "      <td>-0.145</td>\n",
       "      <td>-0.308</td>\n",
       "    </tr>\n",
       "  </tbody>\n",
       "</table>\n",
       "</div>"
      ],
      "text/plain": [
       "                  st dev %    t-4    t-3    t-2    t-1      t    t+1    t+2  \\\n",
       "GNP                  1.751  0.224  0.420  0.632  0.806  1.000  0.806  0.632   \n",
       "CND                  1.517 -0.045  0.135  0.341  0.478  0.647  0.583  0.544   \n",
       "CD                   4.647  0.429  0.572  0.690  0.775  0.776  0.543  0.370   \n",
       "AVG_H                0.451  0.200  0.342  0.469  0.581  0.576  0.449  0.284   \n",
       "AVG_W                1.099  0.382  0.457  0.491  0.490  0.376  0.290  0.176   \n",
       "Tot_Hours_Worked     1.715 -0.094  0.069  0.276  0.485  0.773  0.740  0.679   \n",
       "Employment           1.459 -0.173 -0.028  0.171  0.378  0.688  0.701  0.684   \n",
       "Productivity         1.296  0.497  0.599  0.662  0.663  0.576  0.300  0.083   \n",
       "\n",
       "                    t+3    t+4  \n",
       "GNP               0.420  0.224  \n",
       "CND               0.405  0.280  \n",
       "CD                0.160 -0.014  \n",
       "AVG_H             0.136 -0.032  \n",
       "AVG_W             0.060 -0.057  \n",
       "Tot_Hours_Worked  0.591  0.472  \n",
       "Employment        0.633  0.542  \n",
       "Productivity     -0.145 -0.308  "
      ]
     },
     "execution_count": 29,
     "metadata": {},
     "output_type": "execute_result"
    }
   ],
   "source": [
    "# add the column of the standard deviation. The standard deviation is applied to the cycle_df\n",
    "corr_df['st dev %'] = df_cycle.std()*100\n",
    "\n",
    "# the added column is the rightmost one, so change the order to make the table equal to the one in the assignment\n",
    "corr_df = corr_df[['st dev %','t-4', 't-3', 't-2', 't-1', 't', 't+1', 't+2', 't+3', 't+4']]\n",
    "corr_df"
   ]
  },
  {
   "attachments": {},
   "cell_type": "markdown",
   "metadata": {},
   "source": [
    "#### **Answers to point B**"
   ]
  },
  {
   "attachments": {},
   "cell_type": "markdown",
   "metadata": {},
   "source": [
    "- _Consumption is smoother than output_\n",
    "\n",
    "Looking at the standard deviation, durable consumption is more volatile than GNP, while non durable consumption is less volatile than GNP. \n",
    "The intuition here is that when bad times come, individuals reduce the expenses for durable consumption while consumption for non durable cannot be reduced too much, since it represents goods like food and other basic goods and services daily consumed.\n",
    "\n",
    "Therefore, durable consumption is not smoother than output; non-durable consumption is smoother than output.\n",
    "\n",
    "- _Volatility in GNP is similar in magnitude to volatility in total hours_\n",
    "\n",
    "I confirm this fact. GNP's standard deviation is 1.75, while the analogue quantity for Tot_Hours_Worked is 1.71.\n",
    "\n",
    "- _Volatility in employment is greater than volatility in average hours. Therefore most labour market adjustments operate on the extensive rather than intensive margin_ \n",
    "\n",
    "I confirm also this fact. Employment's standard deviation is 1.46, while the analogue quantity for AVG_H is 0.45. This means that labor market adjustments operate on the extensive margin: during changes due to the business cycles, people is more likely to exit and enter the labor market, rather than staying in the labor market and reduce whe working hours. \n",
    "\n",
    "- _Productivity is slightly pro-cyclical_ \n",
    "\n",
    "By looking at the values of the cross-correlation between GNP and Productivity, I can see that values from t-4 to t+2 are all positive, which would imply a pro-cyclical feature. Moreover, taking also into consideration the graph which shows volatility between GNP and Productivity, it's possible to spot a slightly lagged pattern, in which when the productivity increases, then slightly after the GNP increases.\n",
    "\n",
    "\n",
    "- _Wages are less variable than productivity_\n",
    "\n",
    "Once again, I found confirms in my analysis. In fact standard deviation for AVG_W is 1.098591 while standard deviation for Productivity is 1.29\n",
    "\n",
    "- _There is no correlation between wages and output_\n",
    "\n",
    "I had different findings. For both **table 1** and **table 2** I found a non-negligible correlation between wages and output. "
   ]
  },
  {
   "attachments": {},
   "cell_type": "markdown",
   "metadata": {},
   "source": [
    "# **Table 2 - Business Cycle Statistics for the US Economy**"
   ]
  },
  {
   "attachments": {},
   "cell_type": "markdown",
   "metadata": {},
   "source": [
    "The variable population is loaded with the aim to obtain `per capita hours worked` as the ratio between total hours worked and population itself."
   ]
  },
  {
   "cell_type": "code",
   "execution_count": 30,
   "metadata": {},
   "outputs": [],
   "source": [
    "fred_codes = {\n",
    "    'Y' : 'A939RX0Q048SBEA', # real GDP per capita\n",
    "    'C' : 'A794RX0Q048SBEA', # real consumption per capita\n",
    "    'w' : 'AHETPI',          # wage\n",
    "    'I' : 'GPDI',            # investment, non per capita\n",
    "    'G' : 'GCE',             # government expenditure, non per capita\n",
    "    'pop': 'POPTHM',         # population\n",
    "}\n",
    "\n",
    "df2 = pd.DataFrame()\n",
    "\n",
    "for var in fred_codes.keys():\n",
    "    df2[var] = get_fred_data(fred_codes[var])"
   ]
  },
  {
   "attachments": {},
   "cell_type": "markdown",
   "metadata": {},
   "source": [
    "Dropping na values, the new cleaned `df2` will start from 1964-01-01."
   ]
  },
  {
   "cell_type": "code",
   "execution_count": 31,
   "metadata": {},
   "outputs": [],
   "source": [
    "df2 = df2.dropna()"
   ]
  },
  {
   "attachments": {},
   "cell_type": "markdown",
   "metadata": {},
   "source": [
    "Now let's upload data about `real interest rate`, with the aim to add it into the `df2`."
   ]
  },
  {
   "cell_type": "code",
   "execution_count": 32,
   "metadata": {},
   "outputs": [],
   "source": [
    "r_int_rate = pd.read_excel('rates.xls')\n",
    "r_int_rate = r_int_rate.query(   \" observation_date >= '1964-01-01' \"   )"
   ]
  },
  {
   "cell_type": "code",
   "execution_count": 33,
   "metadata": {},
   "outputs": [],
   "source": [
    "df2['r'] = r_int_rate['DFF'].values"
   ]
  },
  {
   "attachments": {},
   "cell_type": "markdown",
   "metadata": {},
   "source": [
    "Compute `N - hours worked per capita` as the ratio between `total hours worked` and number of people `employed`. These variables were already uploaded for rebuilding the first table!"
   ]
  },
  {
   "cell_type": "code",
   "execution_count": 34,
   "metadata": {},
   "outputs": [],
   "source": [
    "df2['N'] = (df['Tot_Hours_Worked']*1e9) / (df['Employment']*1e06)"
   ]
  },
  {
   "attachments": {},
   "cell_type": "markdown",
   "metadata": {},
   "source": [
    "Note: N is a bit wrong, in the sense that according to this data a worker works, on average, ~1.000 hours per quarter, which is roughly 90 hours per week. I know this doesn't sound reasonable but it is the best I could come up with."
   ]
  },
  {
   "attachments": {},
   "cell_type": "markdown",
   "metadata": {},
   "source": [
    "Compute `I - investment per capita`, starting from the overall investment and dividing for the population."
   ]
  },
  {
   "cell_type": "code",
   "execution_count": 35,
   "metadata": {},
   "outputs": [],
   "source": [
    "df2['I'] = (df2['I']*1e9) / (df2['pop']*1000)"
   ]
  },
  {
   "attachments": {},
   "cell_type": "markdown",
   "metadata": {},
   "source": [
    "Compute `Y/N` as the ratio."
   ]
  },
  {
   "cell_type": "code",
   "execution_count": 36,
   "metadata": {},
   "outputs": [],
   "source": [
    "df2['Y/N'] = df2['Y'] / df2['N']"
   ]
  },
  {
   "attachments": {},
   "cell_type": "markdown",
   "metadata": {},
   "source": [
    "Compute G per capita."
   ]
  },
  {
   "cell_type": "code",
   "execution_count": 37,
   "metadata": {},
   "outputs": [],
   "source": [
    "df2['G'] = (df2['G']*1e9) / (df2['pop']*1000)"
   ]
  },
  {
   "cell_type": "code",
   "execution_count": 38,
   "metadata": {},
   "outputs": [
    {
     "data": {
      "text/html": [
       "<div>\n",
       "<style scoped>\n",
       "    .dataframe tbody tr th:only-of-type {\n",
       "        vertical-align: middle;\n",
       "    }\n",
       "\n",
       "    .dataframe tbody tr th {\n",
       "        vertical-align: top;\n",
       "    }\n",
       "\n",
       "    .dataframe thead th {\n",
       "        text-align: right;\n",
       "    }\n",
       "</style>\n",
       "<table border=\"1\" class=\"dataframe\">\n",
       "  <thead>\n",
       "    <tr style=\"text-align: right;\">\n",
       "      <th></th>\n",
       "      <th>Y</th>\n",
       "      <th>C</th>\n",
       "      <th>I</th>\n",
       "      <th>N</th>\n",
       "      <th>Y/N</th>\n",
       "      <th>w</th>\n",
       "      <th>G</th>\n",
       "      <th>r</th>\n",
       "    </tr>\n",
       "  </thead>\n",
       "  <tbody>\n",
       "    <tr>\n",
       "      <th>1964-01-01</th>\n",
       "      <td>20182.0</td>\n",
       "      <td>12179.0</td>\n",
       "      <td>578.537</td>\n",
       "      <td>1149.490</td>\n",
       "      <td>17.557</td>\n",
       "      <td>2.50</td>\n",
       "      <td>798.904</td>\n",
       "      <td>4.179</td>\n",
       "    </tr>\n",
       "    <tr>\n",
       "      <th>1964-04-01</th>\n",
       "      <td>20337.0</td>\n",
       "      <td>12355.0</td>\n",
       "      <td>576.937</td>\n",
       "      <td>1150.577</td>\n",
       "      <td>17.675</td>\n",
       "      <td>2.52</td>\n",
       "      <td>805.565</td>\n",
       "      <td>4.201</td>\n",
       "    </tr>\n",
       "    <tr>\n",
       "      <th>1964-07-01</th>\n",
       "      <td>20580.0</td>\n",
       "      <td>12537.0</td>\n",
       "      <td>585.839</td>\n",
       "      <td>1149.874</td>\n",
       "      <td>17.898</td>\n",
       "      <td>2.55</td>\n",
       "      <td>811.590</td>\n",
       "      <td>4.194</td>\n",
       "    </tr>\n",
       "    <tr>\n",
       "      <th>1964-10-01</th>\n",
       "      <td>20571.0</td>\n",
       "      <td>12529.0</td>\n",
       "      <td>595.963</td>\n",
       "      <td>1150.150</td>\n",
       "      <td>17.885</td>\n",
       "      <td>2.56</td>\n",
       "      <td>809.338</td>\n",
       "      <td>4.175</td>\n",
       "    </tr>\n",
       "    <tr>\n",
       "      <th>1965-01-01</th>\n",
       "      <td>21011.0</td>\n",
       "      <td>12773.0</td>\n",
       "      <td>654.075</td>\n",
       "      <td>1151.545</td>\n",
       "      <td>18.246</td>\n",
       "      <td>2.59</td>\n",
       "      <td>811.637</td>\n",
       "      <td>4.204</td>\n",
       "    </tr>\n",
       "  </tbody>\n",
       "</table>\n",
       "</div>"
      ],
      "text/plain": [
       "                  Y        C        I         N     Y/N     w        G      r\n",
       "1964-01-01  20182.0  12179.0  578.537  1149.490  17.557  2.50  798.904  4.179\n",
       "1964-04-01  20337.0  12355.0  576.937  1150.577  17.675  2.52  805.565  4.201\n",
       "1964-07-01  20580.0  12537.0  585.839  1149.874  17.898  2.55  811.590  4.194\n",
       "1964-10-01  20571.0  12529.0  595.963  1150.150  17.885  2.56  809.338  4.175\n",
       "1965-01-01  21011.0  12773.0  654.075  1151.545  18.246  2.59  811.637  4.204"
      ]
     },
     "execution_count": 38,
     "metadata": {},
     "output_type": "execute_result"
    }
   ],
   "source": [
    "df2 = df2[['Y', 'C', 'I', 'N', 'Y/N', 'w', 'G', 'r']]\n",
    "df2.head()"
   ]
  },
  {
   "attachments": {},
   "cell_type": "markdown",
   "metadata": {},
   "source": [
    "### **From nominal to real**\n",
    "\n",
    "Y and C are already real."
   ]
  },
  {
   "cell_type": "code",
   "execution_count": 39,
   "metadata": {},
   "outputs": [],
   "source": [
    "nominal_2 = ['I', 'w', 'G']\n",
    "df2[nominal_2] = df2[nominal_2].apply(lambda x: x/(cpi.ind/100))"
   ]
  },
  {
   "cell_type": "code",
   "execution_count": 40,
   "metadata": {},
   "outputs": [
    {
     "data": {
      "text/html": [
       "<div>\n",
       "<style scoped>\n",
       "    .dataframe tbody tr th:only-of-type {\n",
       "        vertical-align: middle;\n",
       "    }\n",
       "\n",
       "    .dataframe tbody tr th {\n",
       "        vertical-align: top;\n",
       "    }\n",
       "\n",
       "    .dataframe thead th {\n",
       "        text-align: right;\n",
       "    }\n",
       "</style>\n",
       "<table border=\"1\" class=\"dataframe\">\n",
       "  <thead>\n",
       "    <tr style=\"text-align: right;\">\n",
       "      <th></th>\n",
       "      <th>Y</th>\n",
       "      <th>C</th>\n",
       "      <th>I</th>\n",
       "      <th>N</th>\n",
       "      <th>Y/N</th>\n",
       "      <th>w</th>\n",
       "      <th>G</th>\n",
       "      <th>r</th>\n",
       "    </tr>\n",
       "  </thead>\n",
       "  <tbody>\n",
       "    <tr>\n",
       "      <th>1964-01-01</th>\n",
       "      <td>20182.0</td>\n",
       "      <td>12179.0</td>\n",
       "      <td>4270.776</td>\n",
       "      <td>1149.490</td>\n",
       "      <td>17.557</td>\n",
       "      <td>18.455</td>\n",
       "      <td>5897.532</td>\n",
       "      <td>4.179</td>\n",
       "    </tr>\n",
       "    <tr>\n",
       "      <th>1964-04-01</th>\n",
       "      <td>20337.0</td>\n",
       "      <td>12355.0</td>\n",
       "      <td>4252.087</td>\n",
       "      <td>1150.577</td>\n",
       "      <td>17.675</td>\n",
       "      <td>18.573</td>\n",
       "      <td>5937.101</td>\n",
       "      <td>4.201</td>\n",
       "    </tr>\n",
       "    <tr>\n",
       "      <th>1964-07-01</th>\n",
       "      <td>20580.0</td>\n",
       "      <td>12537.0</td>\n",
       "      <td>4307.960</td>\n",
       "      <td>1149.874</td>\n",
       "      <td>17.898</td>\n",
       "      <td>18.751</td>\n",
       "      <td>5968.019</td>\n",
       "      <td>4.194</td>\n",
       "    </tr>\n",
       "    <tr>\n",
       "      <th>1964-10-01</th>\n",
       "      <td>20571.0</td>\n",
       "      <td>12529.0</td>\n",
       "      <td>4362.278</td>\n",
       "      <td>1150.150</td>\n",
       "      <td>17.885</td>\n",
       "      <td>18.738</td>\n",
       "      <td>5924.115</td>\n",
       "      <td>4.175</td>\n",
       "    </tr>\n",
       "    <tr>\n",
       "      <th>1965-01-01</th>\n",
       "      <td>21011.0</td>\n",
       "      <td>12773.0</td>\n",
       "      <td>4772.848</td>\n",
       "      <td>1151.545</td>\n",
       "      <td>18.246</td>\n",
       "      <td>18.899</td>\n",
       "      <td>5922.590</td>\n",
       "      <td>4.204</td>\n",
       "    </tr>\n",
       "    <tr>\n",
       "      <th>...</th>\n",
       "      <td>...</td>\n",
       "      <td>...</td>\n",
       "      <td>...</td>\n",
       "      <td>...</td>\n",
       "      <td>...</td>\n",
       "      <td>...</td>\n",
       "      <td>...</td>\n",
       "      <td>...</td>\n",
       "    </tr>\n",
       "    <tr>\n",
       "      <th>2022-01-01</th>\n",
       "      <td>59836.0</td>\n",
       "      <td>42130.0</td>\n",
       "      <td>11242.668</td>\n",
       "      <td>1108.096</td>\n",
       "      <td>53.999</td>\n",
       "      <td>21.631</td>\n",
       "      <td>10377.002</td>\n",
       "      <td>1.951</td>\n",
       "    </tr>\n",
       "    <tr>\n",
       "      <th>2022-04-01</th>\n",
       "      <td>59688.0</td>\n",
       "      <td>42300.0</td>\n",
       "      <td>10831.694</td>\n",
       "      <td>1106.711</td>\n",
       "      <td>53.933</td>\n",
       "      <td>21.459</td>\n",
       "      <td>10368.459</td>\n",
       "      <td>2.933</td>\n",
       "    </tr>\n",
       "    <tr>\n",
       "      <th>2022-07-01</th>\n",
       "      <td>60080.0</td>\n",
       "      <td>42476.0</td>\n",
       "      <td>10599.737</td>\n",
       "      <td>1106.727</td>\n",
       "      <td>54.286</td>\n",
       "      <td>21.442</td>\n",
       "      <td>10400.604</td>\n",
       "      <td>3.101</td>\n",
       "    </tr>\n",
       "    <tr>\n",
       "      <th>2022-10-01</th>\n",
       "      <td>60376.0</td>\n",
       "      <td>42524.0</td>\n",
       "      <td>10684.639</td>\n",
       "      <td>1105.716</td>\n",
       "      <td>54.604</td>\n",
       "      <td>21.485</td>\n",
       "      <td>10468.514</td>\n",
       "      <td>3.827</td>\n",
       "    </tr>\n",
       "    <tr>\n",
       "      <th>2023-01-01</th>\n",
       "      <td>60502.0</td>\n",
       "      <td>42872.0</td>\n",
       "      <td>10363.830</td>\n",
       "      <td>1105.743</td>\n",
       "      <td>54.716</td>\n",
       "      <td>21.519</td>\n",
       "      <td>10539.985</td>\n",
       "      <td>3.646</td>\n",
       "    </tr>\n",
       "  </tbody>\n",
       "</table>\n",
       "<p>237 rows × 8 columns</p>\n",
       "</div>"
      ],
      "text/plain": [
       "                  Y        C          I         N     Y/N       w          G  \\\n",
       "1964-01-01  20182.0  12179.0   4270.776  1149.490  17.557  18.455   5897.532   \n",
       "1964-04-01  20337.0  12355.0   4252.087  1150.577  17.675  18.573   5937.101   \n",
       "1964-07-01  20580.0  12537.0   4307.960  1149.874  17.898  18.751   5968.019   \n",
       "1964-10-01  20571.0  12529.0   4362.278  1150.150  17.885  18.738   5924.115   \n",
       "1965-01-01  21011.0  12773.0   4772.848  1151.545  18.246  18.899   5922.590   \n",
       "...             ...      ...        ...       ...     ...     ...        ...   \n",
       "2022-01-01  59836.0  42130.0  11242.668  1108.096  53.999  21.631  10377.002   \n",
       "2022-04-01  59688.0  42300.0  10831.694  1106.711  53.933  21.459  10368.459   \n",
       "2022-07-01  60080.0  42476.0  10599.737  1106.727  54.286  21.442  10400.604   \n",
       "2022-10-01  60376.0  42524.0  10684.639  1105.716  54.604  21.485  10468.514   \n",
       "2023-01-01  60502.0  42872.0  10363.830  1105.743  54.716  21.519  10539.985   \n",
       "\n",
       "                r  \n",
       "1964-01-01  4.179  \n",
       "1964-04-01  4.201  \n",
       "1964-07-01  4.194  \n",
       "1964-10-01  4.175  \n",
       "1965-01-01  4.204  \n",
       "...           ...  \n",
       "2022-01-01  1.951  \n",
       "2022-04-01  2.933  \n",
       "2022-07-01  3.101  \n",
       "2022-10-01  3.827  \n",
       "2023-01-01  3.646  \n",
       "\n",
       "[237 rows x 8 columns]"
      ]
     },
     "execution_count": 40,
     "metadata": {},
     "output_type": "execute_result"
    }
   ],
   "source": [
    "cpi = pd.read_excel('CPI.xls', index_col = 0)\n",
    "cpi.rename(columns = {'CPIAUCSL_NBD20120101' : 'ind'}, inplace = True)\n",
    "df2"
   ]
  },
  {
   "attachments": {},
   "cell_type": "markdown",
   "metadata": {},
   "source": [
    "### **Log-transform the dataframe.**"
   ]
  },
  {
   "cell_type": "code",
   "execution_count": 41,
   "metadata": {},
   "outputs": [
    {
     "data": {
      "text/html": [
       "<div>\n",
       "<style scoped>\n",
       "    .dataframe tbody tr th:only-of-type {\n",
       "        vertical-align: middle;\n",
       "    }\n",
       "\n",
       "    .dataframe tbody tr th {\n",
       "        vertical-align: top;\n",
       "    }\n",
       "\n",
       "    .dataframe thead th {\n",
       "        text-align: right;\n",
       "    }\n",
       "</style>\n",
       "<table border=\"1\" class=\"dataframe\">\n",
       "  <thead>\n",
       "    <tr style=\"text-align: right;\">\n",
       "      <th></th>\n",
       "      <th>Y</th>\n",
       "      <th>C</th>\n",
       "      <th>I</th>\n",
       "      <th>N</th>\n",
       "      <th>Y/N</th>\n",
       "      <th>w</th>\n",
       "      <th>G</th>\n",
       "    </tr>\n",
       "  </thead>\n",
       "  <tbody>\n",
       "    <tr>\n",
       "      <th>1964-01-01</th>\n",
       "      <td>20182.0</td>\n",
       "      <td>12179.0</td>\n",
       "      <td>4270.776</td>\n",
       "      <td>1149.490</td>\n",
       "      <td>17.557</td>\n",
       "      <td>18.455</td>\n",
       "      <td>5897.532</td>\n",
       "    </tr>\n",
       "    <tr>\n",
       "      <th>1964-04-01</th>\n",
       "      <td>20337.0</td>\n",
       "      <td>12355.0</td>\n",
       "      <td>4252.087</td>\n",
       "      <td>1150.577</td>\n",
       "      <td>17.675</td>\n",
       "      <td>18.573</td>\n",
       "      <td>5937.101</td>\n",
       "    </tr>\n",
       "  </tbody>\n",
       "</table>\n",
       "</div>"
      ],
      "text/plain": [
       "                  Y        C         I         N     Y/N       w         G\n",
       "1964-01-01  20182.0  12179.0  4270.776  1149.490  17.557  18.455  5897.532\n",
       "1964-04-01  20337.0  12355.0  4252.087  1150.577  17.675  18.573  5937.101"
      ]
     },
     "execution_count": 41,
     "metadata": {},
     "output_type": "execute_result"
    }
   ],
   "source": [
    "# create a dataframe called df2_log which doesn't include the real interest rate\n",
    "df2_log = df2.iloc[:, :-1]\n",
    "df2_log.head(2)"
   ]
  },
  {
   "cell_type": "code",
   "execution_count": 42,
   "metadata": {},
   "outputs": [
    {
     "data": {
      "text/html": [
       "<div>\n",
       "<style scoped>\n",
       "    .dataframe tbody tr th:only-of-type {\n",
       "        vertical-align: middle;\n",
       "    }\n",
       "\n",
       "    .dataframe tbody tr th {\n",
       "        vertical-align: top;\n",
       "    }\n",
       "\n",
       "    .dataframe thead th {\n",
       "        text-align: right;\n",
       "    }\n",
       "</style>\n",
       "<table border=\"1\" class=\"dataframe\">\n",
       "  <thead>\n",
       "    <tr style=\"text-align: right;\">\n",
       "      <th></th>\n",
       "      <th>Y</th>\n",
       "      <th>C</th>\n",
       "      <th>I</th>\n",
       "      <th>N</th>\n",
       "      <th>Y/N</th>\n",
       "      <th>w</th>\n",
       "      <th>G</th>\n",
       "    </tr>\n",
       "  </thead>\n",
       "  <tbody>\n",
       "    <tr>\n",
       "      <th>1964-01-01</th>\n",
       "      <td>9.913</td>\n",
       "      <td>9.407</td>\n",
       "      <td>8.360</td>\n",
       "      <td>7.047</td>\n",
       "      <td>2.865</td>\n",
       "      <td>2.915</td>\n",
       "      <td>8.682</td>\n",
       "    </tr>\n",
       "    <tr>\n",
       "      <th>1964-04-01</th>\n",
       "      <td>9.920</td>\n",
       "      <td>9.422</td>\n",
       "      <td>8.355</td>\n",
       "      <td>7.048</td>\n",
       "      <td>2.872</td>\n",
       "      <td>2.922</td>\n",
       "      <td>8.689</td>\n",
       "    </tr>\n",
       "  </tbody>\n",
       "</table>\n",
       "</div>"
      ],
      "text/plain": [
       "                Y      C      I      N    Y/N      w      G\n",
       "1964-01-01  9.913  9.407  8.360  7.047  2.865  2.915  8.682\n",
       "1964-04-01  9.920  9.422  8.355  7.048  2.872  2.922  8.689"
      ]
     },
     "execution_count": 42,
     "metadata": {},
     "output_type": "execute_result"
    }
   ],
   "source": [
    "# apply the logarithm to the dataframe df2_log\n",
    "df2_log = df2_log.apply(lambda x: np.log(x))\n",
    "df2_log.head(2)"
   ]
  },
  {
   "cell_type": "code",
   "execution_count": 43,
   "metadata": {},
   "outputs": [],
   "source": [
    "# add the column of the real interest rate\n",
    "df2_log['r'] = df2['r']"
   ]
  },
  {
   "attachments": {},
   "cell_type": "markdown",
   "metadata": {},
   "source": [
    "### **Extract Fluctuations**"
   ]
  },
  {
   "cell_type": "code",
   "execution_count": 44,
   "metadata": {},
   "outputs": [
    {
     "data": {
      "text/html": [
       "<div>\n",
       "<style scoped>\n",
       "    .dataframe tbody tr th:only-of-type {\n",
       "        vertical-align: middle;\n",
       "    }\n",
       "\n",
       "    .dataframe tbody tr th {\n",
       "        vertical-align: top;\n",
       "    }\n",
       "\n",
       "    .dataframe thead th {\n",
       "        text-align: right;\n",
       "    }\n",
       "</style>\n",
       "<table border=\"1\" class=\"dataframe\">\n",
       "  <thead>\n",
       "    <tr style=\"text-align: right;\">\n",
       "      <th></th>\n",
       "      <th>Y</th>\n",
       "      <th>C</th>\n",
       "      <th>I</th>\n",
       "      <th>N</th>\n",
       "      <th>Y/N</th>\n",
       "      <th>w</th>\n",
       "      <th>G</th>\n",
       "      <th>r</th>\n",
       "    </tr>\n",
       "  </thead>\n",
       "  <tbody>\n",
       "    <tr>\n",
       "      <th>1964-01-01</th>\n",
       "      <td>-0.011</td>\n",
       "      <td>-0.012</td>\n",
       "      <td>-0.039</td>\n",
       "      <td>-1.987e-03</td>\n",
       "      <td>-0.009</td>\n",
       "      <td>-0.007</td>\n",
       "      <td>7.300e-03</td>\n",
       "      <td>0.272</td>\n",
       "    </tr>\n",
       "    <tr>\n",
       "      <th>1964-04-01</th>\n",
       "      <td>-0.013</td>\n",
       "      <td>-0.008</td>\n",
       "      <td>-0.054</td>\n",
       "      <td>-6.612e-04</td>\n",
       "      <td>-0.013</td>\n",
       "      <td>-0.004</td>\n",
       "      <td>8.038e-04</td>\n",
       "      <td>0.192</td>\n",
       "    </tr>\n",
       "    <tr>\n",
       "      <th>1964-07-01</th>\n",
       "      <td>-0.011</td>\n",
       "      <td>-0.003</td>\n",
       "      <td>-0.052</td>\n",
       "      <td>-8.895e-04</td>\n",
       "      <td>-0.010</td>\n",
       "      <td>0.002</td>\n",
       "      <td>-7.190e-03</td>\n",
       "      <td>0.083</td>\n",
       "    </tr>\n",
       "  </tbody>\n",
       "</table>\n",
       "</div>"
      ],
      "text/plain": [
       "                Y      C      I          N    Y/N      w          G      r\n",
       "1964-01-01 -0.011 -0.012 -0.039 -1.987e-03 -0.009 -0.007  7.300e-03  0.272\n",
       "1964-04-01 -0.013 -0.008 -0.054 -6.612e-04 -0.013 -0.004  8.038e-04  0.192\n",
       "1964-07-01 -0.011 -0.003 -0.052 -8.895e-04 -0.010  0.002 -7.190e-03  0.083"
      ]
     },
     "execution_count": 44,
     "metadata": {},
     "output_type": "execute_result"
    }
   ],
   "source": [
    "# apply the function to the df\n",
    "df2_log_cycle, df2_log_trend = trend_extractor(df2_log)\n",
    "\n",
    "# take a look at the cyclical df\n",
    "df2_log_cycle.head(3)"
   ]
  },
  {
   "attachments": {},
   "cell_type": "markdown",
   "metadata": {},
   "source": [
    "## **Build Table 2**"
   ]
  },
  {
   "attachments": {},
   "cell_type": "markdown",
   "metadata": {},
   "source": [
    "Start by computing the Standard Deviation."
   ]
  },
  {
   "cell_type": "code",
   "execution_count": 45,
   "metadata": {},
   "outputs": [],
   "source": [
    "table2 = pd.DataFrame()\n",
    "\n",
    "table2['Standard Deviation'] = df2_log_cycle.std()*100"
   ]
  },
  {
   "attachments": {},
   "cell_type": "markdown",
   "metadata": {},
   "source": [
    "Compute Relative Standard Deviation."
   ]
  },
  {
   "cell_type": "code",
   "execution_count": 46,
   "metadata": {},
   "outputs": [],
   "source": [
    "table2['Rel_std_dev'] = table2['Standard Deviation'] / table2.at['Y', 'Standard Deviation']"
   ]
  },
  {
   "attachments": {},
   "cell_type": "markdown",
   "metadata": {},
   "source": [
    "Compute the First Order Autocorrelation."
   ]
  },
  {
   "cell_type": "code",
   "execution_count": 47,
   "metadata": {},
   "outputs": [],
   "source": [
    "autocorrelations = {}\n",
    "\n",
    "for var in df2_log_cycle.columns:\n",
    "    autocorrelations[var] = df2_log_cycle[var].autocorr()\n",
    "\n",
    "table2['Autocorrelations'] = autocorrelations.values()"
   ]
  },
  {
   "attachments": {},
   "cell_type": "markdown",
   "metadata": {},
   "source": [
    "Compute the Contemporaneous Correlatin with Output."
   ]
  },
  {
   "cell_type": "code",
   "execution_count": 48,
   "metadata": {},
   "outputs": [],
   "source": [
    "correlations = {}\n",
    "\n",
    "for var in df2_log_cycle.columns:\n",
    "    correlations[var] = df2_log_cycle['Y'].corr(df2_log_cycle[var])\n",
    "\n",
    "correlations\n",
    "\n",
    "table2['Correlations'] = correlations.values()"
   ]
  },
  {
   "attachments": {},
   "cell_type": "markdown",
   "metadata": {},
   "source": [
    "# Visualize the final **TABLE 2 - Business Cycle Statistics for the US Economy**"
   ]
  },
  {
   "cell_type": "code",
   "execution_count": 49,
   "metadata": {},
   "outputs": [
    {
     "data": {
      "text/html": [
       "<div>\n",
       "<style scoped>\n",
       "    .dataframe tbody tr th:only-of-type {\n",
       "        vertical-align: middle;\n",
       "    }\n",
       "\n",
       "    .dataframe tbody tr th {\n",
       "        vertical-align: top;\n",
       "    }\n",
       "\n",
       "    .dataframe thead th {\n",
       "        text-align: right;\n",
       "    }\n",
       "</style>\n",
       "<table border=\"1\" class=\"dataframe\">\n",
       "  <thead>\n",
       "    <tr style=\"text-align: right;\">\n",
       "      <th></th>\n",
       "      <th>Standard Deviation</th>\n",
       "      <th>Rel_std_dev</th>\n",
       "      <th>Autocorrelations</th>\n",
       "      <th>Correlations</th>\n",
       "    </tr>\n",
       "  </thead>\n",
       "  <tbody>\n",
       "    <tr>\n",
       "      <th>Y</th>\n",
       "      <td>1.569</td>\n",
       "      <td>1.000</td>\n",
       "      <td>0.771</td>\n",
       "      <td>1.000</td>\n",
       "    </tr>\n",
       "    <tr>\n",
       "      <th>C</th>\n",
       "      <td>1.410</td>\n",
       "      <td>0.899</td>\n",
       "      <td>0.719</td>\n",
       "      <td>0.887</td>\n",
       "    </tr>\n",
       "    <tr>\n",
       "      <th>I</th>\n",
       "      <td>6.590</td>\n",
       "      <td>4.201</td>\n",
       "      <td>0.833</td>\n",
       "      <td>0.873</td>\n",
       "    </tr>\n",
       "    <tr>\n",
       "      <th>N</th>\n",
       "      <td>0.074</td>\n",
       "      <td>0.047</td>\n",
       "      <td>0.708</td>\n",
       "      <td>0.468</td>\n",
       "    </tr>\n",
       "    <tr>\n",
       "      <th>Y/N</th>\n",
       "      <td>1.536</td>\n",
       "      <td>0.979</td>\n",
       "      <td>0.770</td>\n",
       "      <td>0.999</td>\n",
       "    </tr>\n",
       "    <tr>\n",
       "      <th>w</th>\n",
       "      <td>1.099</td>\n",
       "      <td>0.700</td>\n",
       "      <td>0.856</td>\n",
       "      <td>0.143</td>\n",
       "    </tr>\n",
       "    <tr>\n",
       "      <th>G</th>\n",
       "      <td>1.420</td>\n",
       "      <td>0.905</td>\n",
       "      <td>0.820</td>\n",
       "      <td>0.027</td>\n",
       "    </tr>\n",
       "    <tr>\n",
       "      <th>r</th>\n",
       "      <td>73.284</td>\n",
       "      <td>46.711</td>\n",
       "      <td>0.804</td>\n",
       "      <td>0.108</td>\n",
       "    </tr>\n",
       "  </tbody>\n",
       "</table>\n",
       "</div>"
      ],
      "text/plain": [
       "     Standard Deviation  Rel_std_dev  Autocorrelations  Correlations\n",
       "Y                 1.569        1.000             0.771         1.000\n",
       "C                 1.410        0.899             0.719         0.887\n",
       "I                 6.590        4.201             0.833         0.873\n",
       "N                 0.074        0.047             0.708         0.468\n",
       "Y/N               1.536        0.979             0.770         0.999\n",
       "w                 1.099        0.700             0.856         0.143\n",
       "G                 1.420        0.905             0.820         0.027\n",
       "r                73.284       46.711             0.804         0.108"
      ]
     },
     "execution_count": 49,
     "metadata": {},
     "output_type": "execute_result"
    }
   ],
   "source": [
    "table2"
   ]
  },
  {
   "cell_type": "code",
   "execution_count": 51,
   "metadata": {},
   "outputs": [],
   "source": [
    "import dataframe_image as dfi\n",
    "\n",
    "table2_styled = table2.style.background_gradient()\n",
    "\n",
    "dfi.export(table2_styled,\"mytable.png\")"
   ]
  },
  {
   "attachments": {},
   "cell_type": "markdown",
   "metadata": {},
   "source": [
    "# **Questions of point C**:"
   ]
  },
  {
   "attachments": {},
   "cell_type": "markdown",
   "metadata": {},
   "source": [
    " - _Consumption of non-durables is less volatile than output_. \n",
    " \n",
    "The answer I provided for question1 of pointB is valid here.\n",
    "\n",
    " - _Consumer durables are more volatile than output._ \n",
    " \n",
    "The answer I provided for question1 of pointB is valid here.\n",
    "\n",
    " - _Investment is three times more volatile than output_. \n",
    " \n",
    " To asnwer this question I look at **table 2**, where I summarized standard deviations for GDP per capita and Investment per capita. The pattern is confirmed, as Investment (per capita) looks four times more volatile than output (per capita). I think the intuition to this pattern is that, as economic outlook turns uncertain or \"negative times\" are expected to arrive, consumers tend to be more risk averse and for this reason they may reduce their exposition to investments and keep liquidity uninvested.\n",
    " The idea is that investment decisions are influenced by the business cycle. During economic expansions output and income are extpected to grow, and both businesses and consumers (through savings) tend to increase their investment activities. Conversely, during economic contractions or recessions, investment tends to decline as perspectives are worse. \n",
    "\n",
    " - _Government expenditures are less volatile than output._ \n",
    "\n",
    "Still looking at **table 2** I found the standard dev. of G per capita to be lower than the same quantity for Output per capita. So the pattern is confirmed, even though the difference is negligible in my data.\n",
    "\n",
    "- _Total hours worked are about the same volatility as output._ \n",
    "\n",
    "To answer this I go back to **table 1** and also in this case I confirm the pattern from my data for which the volatility is about the same.\n",
    "\n",
    "- _ Employment is as volatile as output, while hours per worker are much less volatile than output._\n",
    "\n",
    "To answer this I go back to **table 1**. I found Employment slightly less volatile than output.\n",
    "Then to compare the volatility of hours per worker and output, I look at **table 2** here I found that hours per worker is (a lot) more volatile than output. \n",
    "\n",
    "- _Labour productivity is less volatile than output_\n",
    "\n",
    "To answer this question, I look at **table 2** and I see that they're on the same level of volatility, where productivity has a (ver) slightly lower st. dev\n",
    "\n",
    "- _The real wage is much less volatile than output._\n",
    "\n",
    "Looking at **table 2** I found the same pattern."
   ]
  }
 ],
 "metadata": {
  "kernelspec": {
   "display_name": "Python 3",
   "language": "python",
   "name": "python3"
  },
  "language_info": {
   "codemirror_mode": {
    "name": "ipython",
    "version": 3
   },
   "file_extension": ".py",
   "mimetype": "text/x-python",
   "name": "python",
   "nbconvert_exporter": "python",
   "pygments_lexer": "ipython3",
   "version": "3.11.2"
  },
  "orig_nbformat": 4
 },
 "nbformat": 4,
 "nbformat_minor": 2
}
